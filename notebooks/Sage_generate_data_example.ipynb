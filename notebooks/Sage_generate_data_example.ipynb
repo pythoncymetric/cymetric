{
 "cells": [
  {
   "cell_type": "code",
   "execution_count": 1,
   "metadata": {},
   "outputs": [],
   "source": [
    "# some general packages\n",
    "import numpy as np\n",
    "import os\n",
    "import pickle\n",
    "\n",
    "import sys\n",
    "sys.path.append(\"PATH_TO_CYMETRIC\")\n",
    "\n",
    "# data generation\n",
    "from cymetric.pointgen.pointgen_mathematica import ToricPointGeneratorMathematica\n",
    "from cymetric.pointgen.nphelper import prepare_dataset, prepare_basis_pickle"
   ]
  },
  {
   "cell_type": "markdown",
   "metadata": {},
   "source": [
    "## Compute toric information\n",
    "\n",
    "> Note: This line might require rerunning to avoid TOPCOM issues."
   ]
  },
  {
   "cell_type": "code",
   "execution_count": 4,
   "metadata": {},
   "outputs": [
    {
     "data": {
      "text/plain": [
       "['dim_cy',\n",
       " 'vol_j_norm',\n",
       " 'coeff_aK',\n",
       " 'exp_aK',\n",
       " 'exps_sections',\n",
       " 'patch_masks',\n",
       " 'glsm_charges',\n",
       " 'non_ci_coeffs',\n",
       " 'non_ci_exps',\n",
       " 'int_nums']"
      ]
     },
     "execution_count": 4,
     "metadata": {},
     "output_type": "execute_result"
    }
   ],
   "source": [
    "from cymetric.sage.sagelib import prepare_toric_cy_data\n",
    "\n",
    "work_dir = \"./ToricModel\"\n",
    "PointConfiguration.set_engine('TOPCOM')\n",
    "vertices = [[1, 0, 0, 0], [0, 1, 0, 0], [0, 0, 1, 0], [0, 0, 0, 1], [-1, -1, -1, 0], [2, 0, 0, -1]]  # P2 fibered over P2\n",
    "polytope = LatticePolytope(vertices)\n",
    "pConfig = PointConfiguration(polytope.points(), star=[0 for _ in range(len(vertices[0]))])\n",
    "\n",
    "# NOTE: Unclear why, but it seems that calling triangulations_list() causes TOPCOM error.\n",
    "#       Separating over two lines and rerunning avoids the issue.\n",
    "pre_triangs = pConfig.restrict_to_connected_triangulations().restrict_to_fine_triangulations().restrict_to_regular_triangulations().restrict_to_star_triangulations([0 for _ in range(len(vertices[0]))])\n",
    "triangs = pre_triangs.triangulations_list()\n",
    "triang = triangs[0]\n",
    "tv_fan = triang.fan()\n",
    "tv = ToricVariety(tv_fan)\n",
    "\n",
    "toric_data = prepare_toric_cy_data(tv, os.path.join(work_dir, \"toric_data.pickle\"))\n",
    "list(toric_data.keys())"
   ]
  },
  {
   "cell_type": "markdown",
   "metadata": {},
   "source": [
    "## Generate points"
   ]
  },
  {
   "cell_type": "code",
   "execution_count": 7,
   "metadata": {},
   "outputs": [],
   "source": [
    "work_dir = \"./ToricModel\"\n",
    "with open(os.path.join(work_dir, 'toric_data.pickle'), 'rb') as f:\n",
    "    toric_data = pickle.load(f)\n",
    "num_pts       = int(50000)\n",
    "precision     = int(10)\n",
    "verbose       = int(1)\n",
    "kmoduli       = np.ones(len(toric_data['exps_sections']))"
   ]
  },
  {
   "cell_type": "code",
   "execution_count": 8,
   "metadata": {},
   "outputs": [],
   "source": [
    "mathematica_pointgen = ToricPointGeneratorMathematica(toric_data, kmoduli, precision=precision, verbose=verbose)"
   ]
  },
  {
   "cell_type": "code",
   "execution_count": 9,
   "metadata": {},
   "outputs": [
    {
     "name": "stderr",
     "output_type": "stream",
     "text": [
      "WolframKernel-<tcp://127.0.0.1:52057>:INFO:Connected to logging socket: tcp://127.0.0.1:52057\n",
      "WolframKernel-<tcp://127.0.0.1:52057>:DEBUG:Evaluating a new expression.\n",
      "pointgenMathematica:DEBUG:Running with 10 Mathematica kernels.\n",
      "pointgenMathematica:DEBUG:Initializing generation of 50000 points...\n",
      "WolframKernel-<tcp://127.0.0.1:52057>:INFO:Number of points on CY from one ambient space intersection: 4\n",
      "WolframKernel-<tcp://127.0.0.1:52057>:INFO:Now generating 50000 points...\n",
      "WolframKernel-<tcp://127.0.0.1:52057>:INFO:Generated 0% of points\n",
      "WolframKernel-<tcp://127.0.0.1:52057>:INFO:Generated 5% of points\n",
      "WolframKernel-<tcp://127.0.0.1:52057>:INFO:Generated 10% of points\n",
      "WolframKernel-<tcp://127.0.0.1:52057>:INFO:Generated 15% of points\n",
      "WolframKernel-<tcp://127.0.0.1:52057>:INFO:Generated 20% of points\n",
      "WolframKernel-<tcp://127.0.0.1:52057>:INFO:Generated 25% of points\n",
      "WolframKernel-<tcp://127.0.0.1:52057>:INFO:Generated 30% of points\n",
      "WolframKernel-<tcp://127.0.0.1:52057>:INFO:Generated 35% of points\n",
      "WolframKernel-<tcp://127.0.0.1:52057>:INFO:Generated 40% of points\n",
      "WolframKernel-<tcp://127.0.0.1:52057>:INFO:Generated 45% of points\n",
      "WolframKernel-<tcp://127.0.0.1:52057>:INFO:Generated 50% of points\n",
      "WolframKernel-<tcp://127.0.0.1:52057>:INFO:Generated 55% of points\n",
      "WolframKernel-<tcp://127.0.0.1:52057>:INFO:Generated 60% of points\n",
      "WolframKernel-<tcp://127.0.0.1:52057>:INFO:Generated 65% of points\n",
      "WolframKernel-<tcp://127.0.0.1:52057>:INFO:Generated 70% of points\n",
      "WolframKernel-<tcp://127.0.0.1:52057>:INFO:Generated 75% of points\n",
      "WolframKernel-<tcp://127.0.0.1:52057>:INFO:Generated 80% of points\n",
      "WolframKernel-<tcp://127.0.0.1:52057>:INFO:Generated 85% of points\n",
      "WolframKernel-<tcp://127.0.0.1:52057>:INFO:Generated 90% of points\n",
      "WolframKernel-<tcp://127.0.0.1:52057>:INFO:Generated 95% of points\n",
      "WolframKernel-<tcp://127.0.0.1:52057>:INFO:done.\n",
      "wolframclient.evaluation.kernel.kernelcontroller:WARNING:Unable to communicate with closed link LinkObject[…].\n",
      "wolframclient.evaluation.kernel.kernelcontroller:WARNING:Subkernel connected through KernelObject[bk[bridgeKernel[lk[LinkObject[…], LocalKernel[Association[{ConstructorArguments -> {file://}, MachineName -> localhost}], Hold[iv19261635075762526911$10]], speed$3598]], id$3617, name$3617, subProps$3617], ek[nev$3618, pb$3618, rd$3618], sk[q$3619, n0$3619, n1$3619]] appears dead.\n",
      "wolframclient.evaluation.kernel.kernelcontroller:WARNING:Requeueing evaluations {498} assigned to KernelObject[bk[bridgeKernel[lk[LinkObject[…], LocalKernel[Association[{ConstructorArguments -> {file://}, MachineName -> localhost}], Hold[iv19261635075762526911$10]], speed$3598]], id$3617, name$3617, subProps$3617], ek[nev$3618, pb$3618, rd$3618], sk[q$3619, n0$3619, n1$3619]].\n",
      "wolframclient.evaluation.kernel.kernelcontroller:WARNING:Kernel KernelObject[bk[bridgeKernel[lk[LinkObject[…], LocalKernel[Association[{ConstructorArguments -> {file://}, MachineName -> localhost}], Hold[iv19261635075762526911$10]], speed$3598]], id$3617, name$3617, subProps$3617], ek[nev$3618, pb$3618, rd$3618], sk[q$3619, n0$3619, n1$3619]] resurrected as KernelObject[bk[bridgeKernel[lk[LinkObject[…], LocalKernel[Association[{ConstructorArguments -> {file://}, MachineName -> localhost}], Hold[iv19261635075762526911$10]], speed$5559]], id$5563, name$5563, subProps$5563], ek[nev$5564, pb$5564, rd$5564], sk[q$5565, n0$5565, n1$5565]].\n",
      "wolframclient.evaluation.kernel.localsession:WARNING:Unable to communicate with closed link LinkObject[…].\n",
      "wolframclient.evaluation.kernel.localsession:WARNING:Subkernel connected through KernelObject[bk[bridgeKernel[lk[LinkObject[…], LocalKernel[Association[{ConstructorArguments -> {file://}, MachineName -> localhost}], Hold[iv19261635075762526911$10]], speed$3598]], id$3617, name$3617, subProps$3617], ek[nev$3618, pb$3618, rd$3618], sk[q$3619, n0$3619, n1$3619]] appears dead.\n",
      "wolframclient.evaluation.kernel.localsession:WARNING:Requeueing evaluations {498} assigned to KernelObject[bk[bridgeKernel[lk[LinkObject[…], LocalKernel[Association[{ConstructorArguments -> {file://}, MachineName -> localhost}], Hold[iv19261635075762526911$10]], speed$3598]], id$3617, name$3617, subProps$3617], ek[nev$3618, pb$3618, rd$3618], sk[q$3619, n0$3619, n1$3619]].\n",
      "wolframclient.evaluation.kernel.localsession:WARNING:Kernel KernelObject[bk[bridgeKernel[lk[LinkObject[…], LocalKernel[Association[{ConstructorArguments -> {file://}, MachineName -> localhost}], Hold[iv19261635075762526911$10]], speed$3598]], id$3617, name$3617, subProps$3617], ek[nev$3618, pb$3618, rd$3618], sk[q$3619, n0$3619, n1$3619]] resurrected as KernelObject[bk[bridgeKernel[lk[LinkObject[…], LocalKernel[Association[{ConstructorArguments -> {file://}, MachineName -> localhost}], Hold[iv19261635075762526911$10]], speed$5559]], id$5563, name$5563, subProps$5563], ek[nev$5564, pb$5564, rd$5564], sk[q$5565, n0$5565, n1$5565]].\n"
     ]
    }
   ],
   "source": [
    "kappa = mathematica_pointgen.prepare_dataset(num_pts, work_dir)\n",
    "prepare_basis_pickle(mathematica_pointgen, work_dir, kappa);"
   ]
  }
 ],
 "metadata": {
  "interpreter": {
   "hash": "fff3e90835fe4c4368578ff8a46546abfc640d67b10f8f9759876c54f498e4cb"
  },
  "kernelspec": {
   "display_name": "SageMath 9.5",
   "language": "sage",
   "name": "SageMath-9.5"
  },
  "language_info": {
   "codemirror_mode": {
    "name": "ipython",
    "version": 3
   },
   "file_extension": ".py",
   "mimetype": "text/x-python",
   "name": "python",
   "nbconvert_exporter": "python",
   "pygments_lexer": "ipython3",
   "version": "3.9.9"
  },
  "orig_nbformat": 4
 },
 "nbformat": 4,
 "nbformat_minor": 2
}
